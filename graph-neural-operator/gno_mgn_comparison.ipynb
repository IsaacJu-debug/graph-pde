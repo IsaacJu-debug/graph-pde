{
 "cells": [
  {
   "cell_type": "markdown",
   "metadata": {
    "id": "68xciFLokMp1"
   },
   "source": [
    "# GNO vs MGN (based on UAI1_full_resolution.py)\n"
   ]
  },
  {
   "cell_type": "code",
   "execution_count": 1,
   "metadata": {
    "colab": {
     "base_uri": "https://localhost:8080/"
    },
    "executionInfo": {
     "elapsed": 189,
     "status": "ok",
     "timestamp": 1658841461381,
     "user": {
      "displayName": "Xin Ju",
      "userId": "07431887039181781801"
     },
     "user_tz": 300
    },
    "id": "uLGHYLG7Q1OI",
    "outputId": "d5390007-7176-406d-c140-cd75c7a07598"
   },
   "outputs": [
    {
     "name": "stdout",
     "output_type": "stream",
     "text": [
      "Tue Oct 17 21:44:00 2023       \n",
      "+---------------------------------------------------------------------------------------+\n",
      "| NVIDIA-SMI 535.104.05             Driver Version: 535.104.05   CUDA Version: 12.2     |\n",
      "|-----------------------------------------+----------------------+----------------------+\n",
      "| GPU  Name                 Persistence-M | Bus-Id        Disp.A | Volatile Uncorr. ECC |\n",
      "| Fan  Temp   Perf          Pwr:Usage/Cap |         Memory-Usage | GPU-Util  Compute M. |\n",
      "|                                         |                      |               MIG M. |\n",
      "|=========================================+======================+======================|\n",
      "|   0  NVIDIA A100-SXM4-40GB          On  | 00000000:C7:00.0 Off |                    0 |\n",
      "| N/A   30C    P0              53W / 400W |      4MiB / 40960MiB |      0%   E. Process |\n",
      "|                                         |                      |             Disabled |\n",
      "+-----------------------------------------+----------------------+----------------------+\n",
      "                                                                                         \n",
      "+---------------------------------------------------------------------------------------+\n",
      "| Processes:                                                                            |\n",
      "|  GPU   GI   CI        PID   Type   Process name                            GPU Memory |\n",
      "|        ID   ID                                                             Usage      |\n",
      "|=======================================================================================|\n",
      "|  No running processes found                                                           |\n",
      "+---------------------------------------------------------------------------------------+\n"
     ]
    }
   ],
   "source": [
    "!nvidia-smi"
   ]
  },
  {
   "cell_type": "code",
   "execution_count": 2,
   "metadata": {
    "id": "4rdy0DtL6Oh8"
   },
   "outputs": [],
   "source": [
    "import torch\n",
    "import numpy as np\n",
    "import os\n",
    "import torch.nn.functional as F\n",
    "from tqdm import trange\n",
    "from torch_geometric.data import Data, DataLoader\n",
    "import matplotlib.pyplot as plt\n",
    "from utilities import *\n",
    "from nn_conv import NNConv_old\n",
    "\n",
    "from timeit import default_timer"
   ]
  },
  {
   "cell_type": "markdown",
   "metadata": {
    "id": "sqAucscvFWSq"
   },
   "source": [
    "# Preprocessing the Dataset\n",
    "\n",
    "GNO involves constructing graphs from the simulation results. As GNO performs integration on a prescribed ball with defined radius r, the connecitivity of node pair will be found by using the functions given in utilities"
   ]
  },
  {
   "cell_type": "code",
   "execution_count": 3,
   "metadata": {
    "id": "_PGF9mhuOu7A"
   },
   "outputs": [
    {
     "name": "stdout",
     "output_type": "stream",
     "text": [
      "/scratch/users/ju1/01_nvidia_research/01_ccs_project/01_gno/01_test\n"
     ]
    }
   ],
   "source": [
    "root_dir = os.getcwd()\n",
    "print(root_dir)\n",
    "#dataset_dir = os.path.join(root_dir, 'datasets')\n",
    "\n",
    "#data_dir = '/data/gpfs/Projects/CSE_HPML/GNN+flow/00_dataset'\n",
    "#dataset_dir = os.path.join(root_dir, 'datasets')\n",
    "\n",
    "TRAIN_NAME = 'piececonst_r241_N1024_smooth1.mat'\n",
    "TEST_NAME = 'piececonst_r241_N1024_smooth2.mat'\n",
    "\n",
    "dataset_dir = os.path.join(root_dir, 'datasets')\n",
    "if not os.path.isdir(dataset_dir):\n",
    "    os.mkdir(dataset_dir)\n",
    "\n",
    "train_data_path = os.path.join(dataset_dir, TRAIN_NAME)\n",
    "test_data_path = os.path.join(dataset_dir, TEST_NAME)\n",
    "checkpoint_dir = os.path.join(root_dir, 'best_models')\n",
    "postprocess_dir = os.path.join(root_dir, 'animations')\n",
    "modelsummary_dir = os.path.join(root_dir, 'model_details')"
   ]
  },
  {
   "cell_type": "markdown",
   "metadata": {},
   "source": [
    "## Input parameters"
   ]
  },
  {
   "cell_type": "code",
   "execution_count": 4,
   "metadata": {},
   "outputs": [
    {
     "name": "stdout",
     "output_type": "stream",
     "text": [
      "resolution 61\n",
      "number of nodes 3721\n"
     ]
    }
   ],
   "source": [
    "r = 4 # radius of the stencil\n",
    "s = int(((241 - 1)/r) + 1) # number of points on the grid\n",
    "n = s**2 # number of nodes in the graph\n",
    "m = 100 # number of training examples\n",
    "k = 1 # number of features per node\n",
    "\n",
    "radius_train = 0.1 # radius of training data\n",
    "radius_test = 0.1 # radius of test data\n",
    "\n",
    "print('resolution', s)\n",
    "print('number of nodes', n)\n",
    "\n",
    "ntrain = 100 # number of training examples\n",
    "ntest = 40  # number of test examples\n",
    "\n",
    "batch_size = 1\n",
    "batch_size2 = 2\n",
    "width = 64\n",
    "ker_width = 256\n",
    "depth = 3\n",
    "edge_features = 6\n",
    "node_features = 6\n",
    "\n",
    "epochs = 200\n",
    "learning_rate = 0.0001\n",
    "scheduler_step = 50\n",
    "scheduler_gamma = 0.8\n",
    "\n",
    "path = 'UAI1_r'+str(s)+'_n'+ str(ntrain)\n",
    "path_model = 'model/'+path+''\n",
    "path_train_err = 'results/'+path+'train.txt'\n",
    "path_test_err = 'results/'+path+'test.txt'\n",
    "path_image = 'image/'+path+''\n",
    "path_train_err = 'results/'+path+'train'\n",
    "path_test_err16 = 'results/'+path+'test16'\n",
    "path_test_err31 = 'results/'+path+'test31'\n",
    "path_test_err61 = 'results/'+path+'test61'\n",
    "path_image_train = 'image/'+path+'train'\n",
    "path_image_test16 = 'image/'+path+'test16'\n",
    "path_image_test31 = 'image/'+path+'test31'\n",
    "path_image_test61 = 'image/'+path+'test61'\n"
   ]
  },
  {
   "cell_type": "code",
   "execution_count": 5,
   "metadata": {},
   "outputs": [],
   "source": [
    "## hyper-parameter\n",
    "class objectview(object):\n",
    "    def __init__(self, d):\n",
    "        self.__dict__ = d\n",
    "\n",
    "for args in [\n",
    "        {'model': 'gno',  \n",
    "         'data_type': 'darcy',\n",
    "         'width': width,\n",
    "         'ker_width': ker_width, \n",
    "         'depth': depth,\n",
    "         'batch_size': batch_size,\n",
    "         'ntrain':ntrain,\n",
    "         'k': k,\n",
    "         'ntest':ntest,\n",
    "         'batch_size2': batch_size2,\n",
    "         'edge_features': edge_features,\n",
    "         'node_features': node_features,\n",
    "         'epochs': 200, \n",
    "         'learning_rate': 1e-4,\n",
    "         'weight_decay': 5e-4,\n",
    "         'scheduler_step': 50,\n",
    "         'scheduler_gamma': 0.8,\n",
    "         'save_best_model': True,\n",
    "         'checkpoint_dir': './best_models/',\n",
    "          'modelsummary_dir': './model_details/',\n",
    "         'postprocess_dir': './2d_loss_plots/'},\n",
    "    ]:\n",
    "        args = objectview(args)\n",
    "    \n",
    "if not os.path.isdir(args.postprocess_dir):\n",
    "    os.mkdir(args.postprocess_dir)\n",
    "\n",
    "#To ensure reproducibility the best we can, here we control the sources of\n",
    "#randomness by seeding the various random number generators used in this Colab\n",
    "#For more information, see: https://pytorch.org/docs/stable/notes/randomness.html\n",
    "torch.manual_seed(5)  #Torch\n",
    "np.random.seed(5)     #NumPy"
   ]
  },
  {
   "cell_type": "markdown",
   "metadata": {},
   "source": [
    "## Graph reconstruction (skip this if the processed dataset exists)"
   ]
  },
  {
   "cell_type": "code",
   "execution_count": 6,
   "metadata": {
    "colab": {
     "base_uri": "https://localhost:8080/"
    },
    "executionInfo": {
     "elapsed": 4,
     "status": "ok",
     "timestamp": 1658843225943,
     "user": {
      "displayName": "Xin Ju",
      "userId": "07431887039181781801"
     },
     "user_tz": 300
    },
    "id": "4Gvq_haxzRRj",
    "outputId": "27efc863-38c3-487d-d192-abbac1d28d90"
   },
   "outputs": [
    {
     "name": "stdout",
     "output_type": "stream",
     "text": [
      "train grid torch.Size([3721, 2]) edge_index torch.Size([2, 376492]) edge_attr torch.Size([376492, 6])\n",
      "16 grid torch.Size([256, 2]) edge_index torch.Size([2, 2116]) edge_attr torch.Size([2116, 6])\n",
      "31 grid torch.Size([961, 2]) edge_index torch.Size([2, 22967]) edge_attr torch.Size([22967, 6])\n",
      "61 grid torch.Size([3721, 2]) edge_index torch.Size([2, 376492]) edge_attr torch.Size([376492, 6])\n"
     ]
    },
    {
     "name": "stderr",
     "output_type": "stream",
     "text": [
      "/home/groups/tchelepi/ju1/02_dl_modeling/00_python_env/ai_science_gnn/lib/python3.10/site-packages/torch_geometric/deprecation.py:22: UserWarning: 'data.DataLoader' is deprecated, use 'loader.DataLoader' instead\n",
      "  warnings.warn(out)\n"
     ]
    }
   ],
   "source": [
    "\n",
    "t1 = default_timer()\n",
    "\n",
    "reader = MatReader(train_data_path)\n",
    "train_a = reader.read_field('coeff')[:ntrain,::r,::r].reshape(ntrain,-1)\n",
    "train_a_smooth = reader.read_field('Kcoeff')[:ntrain,::r,::r].reshape(ntrain,-1)\n",
    "train_a_gradx = reader.read_field('Kcoeff_x')[:ntrain,::r,::r].reshape(ntrain,-1)\n",
    "train_a_grady = reader.read_field('Kcoeff_y')[:ntrain,::r,::r].reshape(ntrain,-1)\n",
    "train_u = reader.read_field('sol')[:ntrain,::r,::r].reshape(ntrain,-1)\n",
    "train_u64 = reader.read_field('sol')[:ntrain,::r,::r].reshape(ntrain,-1)\n",
    "\n",
    "reader.load_file(test_data_path)\n",
    "test_a = reader.read_field('coeff')[:ntest,::4,::4].reshape(ntest,-1)\n",
    "test_a_smooth = reader.read_field('Kcoeff')[:ntest,::4,::4].reshape(ntest,-1)\n",
    "test_a_gradx = reader.read_field('Kcoeff_x')[:ntest,::4,::4].reshape(ntest,-1)\n",
    "test_a_grady = reader.read_field('Kcoeff_y')[:ntest,::4,::4].reshape(ntest,-1)\n",
    "test_u = reader.read_field('sol')[:ntest,::4,::4].reshape(ntest,-1)\n",
    "\n",
    "\n",
    "a_normalizer = GaussianNormalizer(train_a)\n",
    "train_a = a_normalizer.encode(train_a)\n",
    "test_a = a_normalizer.encode(test_a)\n",
    "as_normalizer = GaussianNormalizer(train_a_smooth)\n",
    "train_a_smooth = as_normalizer.encode(train_a_smooth)\n",
    "test_a_smooth = as_normalizer.encode(test_a_smooth)\n",
    "agx_normalizer = GaussianNormalizer(train_a_gradx)\n",
    "train_a_gradx = agx_normalizer.encode(train_a_gradx)\n",
    "test_a_gradx = agx_normalizer.encode(test_a_gradx)\n",
    "agy_normalizer = GaussianNormalizer(train_a_grady)\n",
    "train_a_grady = agy_normalizer.encode(train_a_grady)\n",
    "test_a_grady = agy_normalizer.encode(test_a_grady)\n",
    "\n",
    "\n",
    "test_a = test_a.reshape(ntest,61,61)\n",
    "test_a_smooth = test_a_smooth.reshape(ntest,61,61)\n",
    "test_a_gradx = test_a_gradx.reshape(ntest,61,61)\n",
    "test_a_grady = test_a_grady.reshape(ntest,61,61)\n",
    "test_u = test_u.reshape(ntest,61,61)\n",
    "\n",
    "test_a16 =test_a[:ntest,::4,::4].reshape(ntest,-1)\n",
    "test_a_smooth16 = test_a_smooth[:ntest,::4,::4].reshape(ntest,-1)\n",
    "test_a_gradx16 = test_a_gradx[:ntest,::4,::4].reshape(ntest,-1)\n",
    "test_a_grady16 = test_a_grady[:ntest,::4,::4].reshape(ntest,-1)\n",
    "test_u16 = test_u[:ntest,::4,::4].reshape(ntest,-1)\n",
    "test_a31 =test_a[:ntest,::2,::2].reshape(ntest,-1)\n",
    "test_a_smooth31 = test_a_smooth[:ntest,::2,::2].reshape(ntest,-1)\n",
    "test_a_gradx31 = test_a_gradx[:ntest,::2,::2].reshape(ntest,-1)\n",
    "test_a_grady31 = test_a_grady[:ntest,::2,::2].reshape(ntest,-1)\n",
    "test_u31 = test_u[:ntest,::2,::2].reshape(ntest,-1)\n",
    "test_a =test_a.reshape(ntest,-1)\n",
    "test_a_smooth = test_a_smooth.reshape(ntest,-1)\n",
    "test_a_gradx = test_a_gradx.reshape(ntest,-1)\n",
    "test_a_grady = test_a_grady.reshape(ntest,-1)\n",
    "test_u = test_u.reshape(ntest,-1)\n",
    "\n",
    "\n",
    "u_normalizer = GaussianNormalizer(train_u)\n",
    "train_u = u_normalizer.encode(train_u)\n",
    "# test_u = y_normalizer.encode(test_u)\n",
    "\n",
    "meshgenerator = SquareMeshGenerator([[0,1],[0,1]],[s,s])\n",
    "edge_index = meshgenerator.ball_connectivity(radius_train)\n",
    "grid = meshgenerator.get_grid()\n",
    "# meshgenerator.get_boundary()\n",
    "# edge_index_boundary = meshgenerator.boundary_connectivity2d(stride = stride)\n",
    "\n",
    "data_train = []\n",
    "for j in range(ntrain):\n",
    "    edge_attr = meshgenerator.attributes(theta=train_a[j,:])\n",
    "    # edge_attr_boundary = meshgenerator.attributes_boundary(theta=train_u[j,:])\n",
    "    data_train.append(Data(x=torch.cat([grid, train_a[j,:].reshape(-1, 1),\n",
    "                                        train_a_smooth[j,:].reshape(-1, 1), train_a_gradx[j,:].reshape(-1, 1), train_a_grady[j,:].reshape(-1, 1)\n",
    "                                        ], dim=1),\n",
    "                           y=train_u[j,:], coeff=train_a[j,:],\n",
    "                           edge_index=edge_index, edge_attr=edge_attr,\n",
    "                           # edge_index_boundary=edge_index_boundary, edge_attr_boundary= edge_attr_boundary\n",
    "                           ))\n",
    "\n",
    "print('train grid', grid.shape, 'edge_index', edge_index.shape, 'edge_attr', edge_attr.shape)\n",
    "\n",
    "meshgenerator = SquareMeshGenerator([[0,1],[0,1]],[16,16])\n",
    "edge_index = meshgenerator.ball_connectivity(radius_test)\n",
    "grid = meshgenerator.get_grid()\n",
    "# meshgenerator.get_boundary()\n",
    "# edge_index_boundary = meshgenerator.boundary_connectivity2d(stride = stride)\n",
    "data_test16 = []\n",
    "for j in range(ntest):\n",
    "    edge_attr = meshgenerator.attributes(theta=test_a16[j,:])\n",
    "    # edge_attr_boundary = meshgenerator.attributes_boundary(theta=test_a[j, :])\n",
    "    data_test16.append(Data(x=torch.cat([grid, test_a16[j,:].reshape(-1, 1),\n",
    "                                       test_a_smooth16[j,:].reshape(-1, 1), test_a_gradx16[j,:].reshape(-1, 1), test_a_grady16[j,:].reshape(-1, 1)\n",
    "                                       ], dim=1),\n",
    "                           y=test_u16[j, :], coeff=test_a16[j,:],\n",
    "                           edge_index=edge_index, edge_attr=edge_attr,\n",
    "                           # edge_index_boundary=edge_index_boundary, edge_attr_boundary=edge_attr_boundary\n",
    "                          ))\n",
    "\n",
    "print('16 grid', grid.shape, 'edge_index', edge_index.shape, 'edge_attr', edge_attr.shape)\n",
    "# print('edge_index_boundary', edge_index_boundary.shape, 'edge_attr', edge_attr_boundary.shape)\n",
    "\n",
    "meshgenerator = SquareMeshGenerator([[0,1],[0,1]],[31,31])\n",
    "edge_index = meshgenerator.ball_connectivity(radius_test)\n",
    "grid = meshgenerator.get_grid()\n",
    "# meshgenerator.get_boundary()\n",
    "# edge_index_boundary = meshgenerator.boundary_connectivity2d(stride = stride)\n",
    "data_test31 = []\n",
    "for j in range(ntest):\n",
    "    edge_attr = meshgenerator.attributes(theta=test_a31[j,:])\n",
    "    # edge_attr_boundary = meshgenerator.attributes_boundary(theta=test_a[j, :])\n",
    "    data_test31.append(Data(x=torch.cat([grid, test_a31[j,:].reshape(-1, 1),\n",
    "                                       test_a_smooth31[j,:].reshape(-1, 1), test_a_gradx31[j,:].reshape(-1, 1), test_a_grady31[j,:].reshape(-1, 1)\n",
    "                                       ], dim=1),\n",
    "                           y=test_u31[j, :], coeff=test_a31[j,:],\n",
    "                           edge_index=edge_index, edge_attr=edge_attr,\n",
    "                           # edge_index_boundary=edge_index_boundary, edge_attr_boundary=edge_attr_boundary\n",
    "                          ))\n",
    "\n",
    "print('31 grid', grid.shape, 'edge_index', edge_index.shape, 'edge_attr', edge_attr.shape)\n",
    "# print('edge_index_boundary', edge_index_boundary.shape, 'edge_attr', edge_attr_boundary.shape)\n",
    "\n",
    "meshgenerator = SquareMeshGenerator([[0,1],[0,1]],[61,61])\n",
    "edge_index = meshgenerator.ball_connectivity(radius_test)\n",
    "grid = meshgenerator.get_grid()\n",
    "# meshgenerator.get_boundary()\n",
    "# edge_index_boundary = meshgenerator.boundary_connectivity2d(stride = stride)\n",
    "data_test61 = []\n",
    "for j in range(ntest):\n",
    "    edge_attr = meshgenerator.attributes(theta=test_a[j,:])\n",
    "    # edge_attr_boundary = meshgenerator.attributes_boundary(theta=test_a[j, :])\n",
    "    data_test61.append(Data(x=torch.cat([grid, test_a[j,:].reshape(-1, 1),\n",
    "                                       test_a_smooth[j,:].reshape(-1, 1), test_a_gradx[j,:].reshape(-1, 1), test_a_grady[j,:].reshape(-1, 1)\n",
    "                                       ], dim=1),\n",
    "                           y=test_u[j, :], coeff=test_a[j,:],\n",
    "                           edge_index=edge_index, edge_attr=edge_attr,\n",
    "                           # edge_index_boundary=edge_index_boundary, edge_attr_boundary=edge_attr_boundary\n",
    "                          ))\n",
    "\n",
    "print('61 grid', grid.shape, 'edge_index', edge_index.shape, 'edge_attr', edge_attr.shape)\n",
    "# print('edge_index_boundary', edge_index_boundary.shape, 'edge_attr', edge_attr_boundary.shape)\n",
    "\n",
    "train_loader = DataLoader(data_train, batch_size=batch_size, shuffle=True)\n",
    "test_loader16 = DataLoader(data_test16, batch_size=batch_size2, shuffle=False)\n",
    "test_loader31 = DataLoader(data_test31, batch_size=batch_size2, shuffle=False)\n",
    "test_loader61 = DataLoader(data_test61, batch_size=batch_size2, shuffle=False)\n",
    "\n"
   ]
  },
  {
   "cell_type": "code",
   "execution_count": 7,
   "metadata": {},
   "outputs": [],
   "source": [
    "# save the processed data to avoid re-processing\n",
    "torch.save(data_train, os.path.join(dataset_dir, 'data_train.pt'))\n",
    "torch.save(data_test16, os.path.join(dataset_dir, 'data_test16.pt'))\n",
    "torch.save(data_test31, os.path.join(dataset_dir, 'data_test31.pt'))\n",
    "torch.save(data_test61, os.path.join(dataset_dir, 'data_test61.pt'))"
   ]
  },
  {
   "cell_type": "markdown",
   "metadata": {
    "id": "DIze-W5cO9wR"
   },
   "source": [
    "## Read preprocessed data"
   ]
  },
  {
   "cell_type": "code",
   "execution_count": 8,
   "metadata": {
    "colab": {
     "base_uri": "https://localhost:8080/"
    },
    "executionInfo": {
     "elapsed": 1751,
     "status": "ok",
     "timestamp": 1658843245673,
     "user": {
      "displayName": "Xin Ju",
      "userId": "07431887039181781801"
     },
     "user_tz": 300
    },
    "id": "c0_1uCSJFn-M",
    "outputId": "e2258fcb-b812-4233-f574-e1d784a37204"
   },
   "outputs": [
    {
     "name": "stdout",
     "output_type": "stream",
     "text": [
      "[Data(x=[3721, 6], edge_index=[2, 376492], edge_attr=[376492, 6], y=[3721], coeff=[3721])]\n"
     ]
    }
   ],
   "source": [
    "# Only call this cell when the preprocessing is done\n",
    "file_path=os.path.join(dataset_dir, 'data_train.pt')\n",
    "train_loader = DataLoader(torch.load(file_path), batch_size=batch_size, shuffle=True)\n",
    "test_loader16 = DataLoader(torch.load(os.path.join(dataset_dir, 'data_test16.pt')), batch_size=batch_size2, shuffle=False)\n",
    "test_loader31 = DataLoader(torch.load(os.path.join(dataset_dir, 'data_test31.pt')), batch_size=batch_size2, shuffle=False)\n",
    "test_loader61 = DataLoader(torch.load(os.path.join(dataset_dir, 'data_test61.pt')), batch_size=batch_size2, shuffle=False)\n",
    "\n",
    "print(torch.load(file_path)[:1])"
   ]
  },
  {
   "cell_type": "code",
   "execution_count": 22,
   "metadata": {},
   "outputs": [
    {
     "name": "stdout",
     "output_type": "stream",
     "text": [
      "tensor([0.0000, 0.0000, 1.0033, 1.0368, 0.0347, 0.0173])\n",
      "DataBatch(x=[2560, 6], edge_index=[2, 21160], edge_attr=[21160, 6], y=[2560], coeff=[2560], batch=[2560], ptr=[11])\n",
      "DataBatch(x=[9610, 6], edge_index=[2, 229670], edge_attr=[229670, 6], y=[9610], coeff=[9610], batch=[9610], ptr=[11])\n",
      "DataBatch(x=[37210, 6], edge_index=[2, 3764920], edge_attr=[3764920, 6], y=[37210], coeff=[37210], batch=[37210], ptr=[11])\n"
     ]
    }
   ],
   "source": [
    "train_batch = next(iter(train_loader))\n",
    "test_batch16 = next(iter(test_loader16))\n",
    "test_batch31 = next(iter(test_loader31))\n",
    "test_batch61 = next(iter(test_loader61))\n",
    "\n",
    "print(train_batch.x[0, :])\n",
    "print(test_batch16)\n",
    "print(test_batch31)\n",
    "print(test_batch61)\n"
   ]
  },
  {
   "cell_type": "code",
   "execution_count": 9,
   "metadata": {},
   "outputs": [
    {
     "data": {
      "image/png": "[encoded data removed]",
      "text/plain": [
       "<Figure size 640x480 with 1 Axes>"
      ]
     },
     "metadata": {},
     "output_type": "display_data"
    }
   ],
   "source": [
    "# inspect adjacency matrix\n",
    "def edge_index_to_adjacency_matrix(edge_index, num_nodes):\n",
    "    \"\"\"Convert edge_index to an adjacency matrix.\"\"\"\n",
    "    adj_matrix = torch.zeros(num_nodes, num_nodes)\n",
    "    adj_matrix[edge_index[0, :], edge_index[1, :]] = 1\n",
    "    return adj_matrix\n",
    "\n",
    "# Convert edge_index to adjacency matrix\n",
    "adj_matrix = edge_index_to_adjacency_matrix(train_batch.edge_index, train_batch.x.shape[0])\n",
    "\n",
    "# Plot adjacency matrix\n",
    "x, y = np.where(adj_matrix == 1)\n",
    "plt.scatter(y, -x, marker='o', color='blue')\n",
    "plt.gca().set_aspect('equal', adjustable='box')\n",
    "plt.gca().invert_yaxis()  # To match MATLAB's spy function's layout\n",
    "plt.xlabel('Columns')\n",
    "plt.ylabel('Rows')\n",
    "plt.title('Sparsity Pattern')\n",
    "plt.grid(True)\n",
    "plt.show()"
   ]
  },
  {
   "cell_type": "code",
   "execution_count": 25,
   "metadata": {},
   "outputs": [
    {
     "name": "stderr",
     "output_type": "stream",
     "text": [
      "/tmp/ipykernel_48256/3865236868.py:49: UserWarning: This figure includes Axes that are not compatible with tight_layout, so results might be incorrect.\n",
      "  plt.tight_layout()\n"
     ]
    },
    {
     "data": {
      "image/png": "[encoded data removed]",
      "text/plain": [
       "<Figure size 1000x1000 with 5 Axes>"
      ]
     },
     "metadata": {},
     "output_type": "display_data"
    }
   ],
   "source": [
    "import matplotlib.pyplot as plt\n",
    "import torch_geometric as pyg\n",
    "\n",
    "# Extract the 'y' attributes from each batch\n",
    "train_y = train_batch.y\n",
    "test_y16 = test_batch16.y[0:16*16]\n",
    "test_y31 = test_batch31.y[0:31*31]\n",
    "test_y61 = test_batch61.y[0:61*61]\n",
    "\n",
    "# Ensure all y attributes are in a consistent shape for plotting\n",
    "# Here, I'm assuming they're 1D. If not, you might need to modify this.\n",
    "resolution = 61\n",
    "train_y = train_y.reshape(-1).numpy().reshape((resolution, resolution))\n",
    "resolution = 16                                                 \n",
    "test_y16 = test_y16.view(-1).numpy().reshape((resolution, resolution))\n",
    "resolution = 31\n",
    "test_y31 = test_y31.view(-1).numpy().reshape((resolution, resolution))\n",
    "resolution = 61\n",
    "test_y61 = test_y61.view(-1).numpy().reshape((resolution, resolution))\n",
    "\n",
    "                                             \n",
    "# Plotting\n",
    "fig, axs = plt.subplots(2, 2, figsize=(10, 10))\n",
    "\n",
    "# Plotting train y attributes\n",
    "cax = axs[0, 0].imshow(train_y, cmap='viridis')\n",
    "axs[0, 0].set_title('Train')\n",
    "axs[0, 0].axis('off')\n",
    "\n",
    "# Plotting test 16 y attributes\n",
    "cax = axs[0, 1].imshow(test_y16, cmap='viridis')\n",
    "axs[0, 1].set_title('Test 16')\n",
    "axs[0, 1].axis('off')\n",
    "\n",
    "# Plotting test 31 y attributes\n",
    "cax = axs[1, 0].imshow(test_y31, cmap='viridis')\n",
    "axs[1, 0].set_title('Test 31')\n",
    "axs[1, 0].axis('off')\n",
    "\n",
    "# Plotting test 61 y attributes\n",
    "cax = axs[1, 1].imshow(test_y61, cmap='viridis')\n",
    "axs[1, 1].set_title('Test 61')\n",
    "axs[1, 1].axis('off')\n",
    "\n",
    "# Add a colorbar for the whole figure (or you can add individually)\n",
    "cbar = fig.colorbar(cax, ax=axs.ravel().tolist(), orientation='vertical', shrink=0.6)\n",
    "\n",
    "# Tight layout to make it neat\n",
    "plt.tight_layout()\n",
    "# Save the figure (optional)\n",
    "PATH = os.path.join(args.postprocess_dir, \"y_attributes_plot.png\")\n",
    "plt.savefig(PATH, dpi=300)\n",
    "\n",
    "plt.show()\n"
   ]
  },
  {
   "cell_type": "markdown",
   "metadata": {
    "id": "LFXXxeic6lU0"
   },
   "source": [
    "# Building the Model"
   ]
  },
  {
   "cell_type": "markdown",
   "metadata": {},
   "source": [
    "## Graph Neural Operator"
   ]
  },
  {
   "cell_type": "code",
   "execution_count": 8,
   "metadata": {},
   "outputs": [],
   "source": [
    "\n",
    "class KernelNN(torch.nn.Module):\n",
    "    def __init__(self, width, ker_width, depth, ker_in, in_width=1, out_width=1):\n",
    "        super(KernelNN, self).__init__()\n",
    "        self.depth = depth\n",
    "\n",
    "        self.fc1 = torch.nn.Linear(in_width, width)\n",
    "\n",
    "        kernel = DenseNet([ker_in, ker_width, ker_width, width**2], torch.nn.ReLU)\n",
    "        self.conv1 = NNConv_old(width, width, kernel, aggr='mean')\n",
    "\n",
    "        self.fc2 = torch.nn.Linear(width, 1)\n",
    "\n",
    "    def forward(self, data):\n",
    "        x, edge_index, edge_attr = data.x, data.edge_index, data.edge_attr\n",
    "        x = self.fc1(x)\n",
    "        for k in range(self.depth):\n",
    "            x = F.relu(self.conv1(x, edge_index, edge_attr))\n",
    "\n",
    "        x = self.fc2(x)\n",
    "        return x"
   ]
  },
  {
   "cell_type": "markdown",
   "metadata": {
    "id": "VPm4KXR9bT07"
   },
   "source": [
    "## MeshGraphNet (MGN) class"
   ]
  },
  {
   "cell_type": "code",
   "execution_count": 14,
   "metadata": {
    "id": "0mGQkCoAvIc0"
   },
   "outputs": [],
   "source": [
    "class MeshGraphNet(torch.nn.Module):\n",
    "    def __init__(self, input_dim_node, input_dim_edge, hidden_dim, output_dim, args, emb=False):\n",
    "        super(MeshGraphNet, self).__init__()\n",
    "        \"\"\"\n",
    "        MeshGraphNet model. This model is built upon Deepmind's 2021 paper.\n",
    "        This model consists of three parts: (1) Preprocessing: encoder (2) Processor\n",
    "        (3) postproccessing: decoder. Encoder has an edge and node decoders respectively.\n",
    "        Processor has two processors for edge and node respectively. Note that edge attributes have to be\n",
    "        updated first. Decoder is only for nodes.\n",
    "\n",
    "        Input_dim: dynamic variables + node_type (node_position is encoded in edge attributes)\n",
    "        Hidden_dim: 128 in deepmind's paper\n",
    "        Output_dim: dynamic variables: velocity changes (1)\n",
    "\n",
    "        \"\"\"\n",
    "\n",
    "        self.num_layers = args.num_layers\n",
    "\n",
    "        # encoder convert raw inputs into latent embeddings\n",
    "        self.node_encoder = Sequential(Linear(input_dim_node , hidden_dim),\n",
    "                              ReLU(),\n",
    "                              Linear( hidden_dim, hidden_dim),\n",
    "                              LayerNorm(hidden_dim))\n",
    "\n",
    "        self.edge_encoder = Sequential(Linear( input_dim_edge , hidden_dim),\n",
    "                              ReLU(),\n",
    "                              Linear( hidden_dim, hidden_dim),\n",
    "                              LayerNorm(hidden_dim)\n",
    "                              )\n",
    "\n",
    "\n",
    "        self.processor = nn.ModuleList()\n",
    "        assert (self.num_layers >= 1), 'Number of message passing layers is not >=1'\n",
    "\n",
    "        processor_layer=self.build_processor_model()\n",
    "        for _ in range(self.num_layers):\n",
    "            self.processor.append(processor_layer(hidden_dim,hidden_dim))\n",
    "\n",
    "\n",
    "        # decoder: only for node embeddings\n",
    "        self.decoder = Sequential(Linear( hidden_dim , hidden_dim),\n",
    "                              ReLU(),\n",
    "                              Linear( hidden_dim, output_dim)\n",
    "                              )\n",
    "\n",
    "\n",
    "    def build_processor_model(self):\n",
    "        return ProcessorLayer\n",
    "\n",
    "\n",
    "    def forward(self,data,mean_vec_x,std_vec_x,mean_vec_edge,std_vec_edge):\n",
    "        \"\"\"\n",
    "        Encoder encodes graph (node/edge features) into latent vectors (node/edge embeddings)\n",
    "        The return of processor is fed into the processor for generating new feature vectors\n",
    "        \"\"\"\n",
    "        x, edge_index, edge_attr = data.x, data.edge_index, data.edge_attr\n",
    "\n",
    "        x = normalize(x,mean_vec_x,std_vec_x)\n",
    "        edge_attr=normalize(edge_attr,mean_vec_edge,std_vec_edge)\n",
    "\n",
    "        # Step 1: encode node/edge features into latent node/edge embeddings\n",
    "        x = self.node_encoder(x) # output shape is the specified hidden dimension\n",
    "\n",
    "        edge_attr = self.edge_encoder(edge_attr) # output shape is the specified hidden dimension\n",
    "\n",
    "        # step 2: perform message passing with latent node/edge embeddings\n",
    "        for i in range(self.num_layers):\n",
    "            x,edge_attr = self.processor[i](x,edge_index,edge_attr)\n",
    "\n",
    "        # step 3: decode latent node embeddings into physical quantities of interest\n",
    "\n",
    "        return self.decoder(x)\n"
   ]
  },
  {
   "cell_type": "markdown",
   "metadata": {
    "id": "EWxCqrYgcrQS"
   },
   "source": [
    "## Temporal MGN model"
   ]
  },
  {
   "cell_type": "code",
   "execution_count": 15,
   "metadata": {
    "id": "5jRZNBna7hPV"
   },
   "outputs": [],
   "source": [
    "class TransferTempoMGN(torch.nn.Module):\n",
    "    def __init__(self, mgn_model, hidden_dim, output_dim, args, emb=False):\n",
    "        super(TransferTempoMGN, self).__init__()\n",
    "        \"\"\"\n",
    "        input: mgn_model: a pretrained Meshgraphnet\n",
    "        \"\"\"\n",
    "        # initialize FeatureExtractor class, which has a complete forward function and returns\n",
    "        # the last layer of processor\n",
    "        self.data_type = args.data_type\n",
    "        self.num_layers = args.num_layers\n",
    "        \n",
    "        self.need_edge_weight = args.need_edge_weight\n",
    "        #self.feature_extractor = mgn_model\n",
    "        self.feature_extractor = nn.ModuleList(mgn_model.children())[:-1]\n",
    "        \n",
    "        if (args.pre_trained):\n",
    "            self.decoder = nn.ModuleList(mgn_model.children())[-1]\n",
    "            for param in mgn_model.parameters():\n",
    "                param.requires_grad = False\n",
    "        else:\n",
    "            # Fine-tuned a decoder. certainly we can the pre-trained one too\n",
    "            self.decoder = Sequential(Linear( hidden_dim , hidden_dim),\n",
    "                              ReLU(),\n",
    "                              Linear( hidden_dim, output_dim)\n",
    "                              )\n",
    "            \n",
    "        # Stack a consLSTM model after the last layer of processor is finished\n",
    "        self.lstm_filter_size = args.lstm_filter_size\n",
    "        self.recurrent_model = GConvLSTM(hidden_dim, hidden_dim, self.lstm_filter_size)\n",
    "\n",
    "    def build_processor_model(self):\n",
    "        return ProcessorLayer\n",
    "\n",
    "    def forward(self,data,mean_vec_x,std_vec_x,mean_vec_edge,std_vec_edge, h_0, c_0):\n",
    "        \"\"\"\n",
    "        Encoder encodes graph (node/edge features) into latent vectors (node/edge embeddings)\n",
    "        The return of processor is fed into the processor for generating new feature vectors\n",
    "\n",
    "        h_0: hidden state from previous timestep\n",
    "        c_0: cell state from previous timestep\n",
    "        \"\"\"\n",
    "        x, edge_index, edge_attr = data.x, data.edge_index, data.edge_attr\n",
    "        x = normalize(x,mean_vec_x,std_vec_x)\n",
    "        edge_attr=normalize(edge_attr,mean_vec_edge,std_vec_edge)\n",
    "\n",
    "        # Step 1: encode node/edge features into latent node/edge embeddings\n",
    "        x = self.feature_extractor[0](x) # output shape is the specified hidden dimension\n",
    "        edge_attr = self.feature_extractor[1](edge_attr) # output shape is the specified hidden dimension\n",
    "\n",
    "        # step 2: perform message passing with latent node/edge embeddings\n",
    "        for i in range(self.num_layers):\n",
    "            x, edge_attr = self.feature_extractor[2][i](x,edge_index,edge_attr)\n",
    "\n",
    "        # step 3: decode latent node embeddings into physical quantities of interest\n",
    "        # step 3: feed the propagated node embeddings into convLSTM\n",
    "        if (self.need_edge_weight):\n",
    "            edge_weight = edge_attr\n",
    "        else:\n",
    "            edge_weight = torch.ones( edge_attr.shape[0] ).to(args.device)\n",
    "\n",
    "        h_new, c_new = self.recurrent_model(x, edge_index, edge_weight, h_0, c_0)\n",
    "        # step 4: decode latent node embeddings into physical quantities of interest \n",
    "\n",
    "        # step 5: return hidden state and cell state\n",
    "        return self.decoder(h_new), h_new, c_new\n",
    "\n",
    "    def loss(self, pred, inputs,mean_vec_y,std_vec_y, num):\n",
    "        #Define the node types that we calculate loss for\n",
    "\n",
    "        #Get the loss mask for the nodes of the types we calculate loss for\n",
    "        #Need more delibrations\n",
    "        if (self.data_type.upper() == 'HEXA'):\n",
    "            well_loss_mask = (torch.argmax(inputs.x[:,1:],dim=1)==torch.tensor(0)) # extra weight (well)\n",
    "            normal_loss_mask = (torch.argmax(inputs.x[:,1:],dim=1)==torch.tensor(1))\n",
    "        \n",
    "        if (self.data_type.upper() == 'PEBI'):\n",
    "            well_loss_mask = (torch.argmax(inputs.x[:,3:],dim=1)==torch.tensor(1)) # extra weight (well)\n",
    "            normal_loss_mask = (torch.argmax(inputs.x[:,3:],dim=1)!=torch.tensor(1))\n",
    "            \n",
    "        #Normalize labels with dataset statistics\n",
    "        labels = normalize(inputs.y[:, num],mean_vec_y[num],std_vec_y[num]).unsqueeze(-1)\n",
    "\n",
    "        #Find sum of square errors\n",
    "        error=torch.sum((labels-pred)**2,axis=1)\n",
    "\n",
    "        #Root and mean the errors for the nodes we calculate loss for\n",
    "        loss=torch.sqrt(torch.mean(error[normal_loss_mask])) + args.well_weight * torch.sqrt(torch.mean(error[well_loss_mask]))\n",
    "        #loss=torch.sqrt(torch.mean(error))\n",
    "        \n",
    "        return loss"
   ]
  },
  {
   "cell_type": "markdown",
   "metadata": {
    "id": "_u0cUrkU7fVO"
   },
   "source": [
    "ProcessorLayer inherits from the PyG MessagePassing base class and handles processor/GNN part of the architecture. 👇"
   ]
  },
  {
   "cell_type": "markdown",
   "metadata": {
    "id": "wVUbReqk8_Mn"
   },
   "source": [
    "## ProcessorLayer Class: Edge Message Passing, Aggregation, and Updating\n"
   ]
  },
  {
   "cell_type": "markdown",
   "metadata": {
    "id": "KTnKHlxywuWN"
   },
   "source": [
    "## Edge and Node MLP"
   ]
  },
  {
   "cell_type": "code",
   "execution_count": 16,
   "metadata": {
    "id": "JzhrBgT17n6_"
   },
   "outputs": [],
   "source": [
    "class ProcessorLayer(MessagePassing):\n",
    "    def __init__(self, in_channels, out_channels,  **kwargs):\n",
    "        super(ProcessorLayer, self).__init__(  **kwargs )\n",
    "        \"\"\"\n",
    "        in_channels: dim of node embeddings [128], out_channels: dim of edge embeddings [128]\n",
    "\n",
    "        \"\"\"\n",
    "\n",
    "        # Note that the node and edge encoders both have the same hidden dimension\n",
    "        # size. This means that the input of the edge processor will always be\n",
    "        # three times the specified hidden dimension\n",
    "        # (input: adjacent node embeddings and self embeddings)\n",
    "        self.edge_mlp = Sequential(Linear( 3* in_channels , out_channels),\n",
    "                                   ReLU(),\n",
    "                                   Linear( out_channels, out_channels),\n",
    "                                   LayerNorm(out_channels))\n",
    "\n",
    "        self.node_mlp = Sequential(Linear( 2* in_channels , out_channels),\n",
    "                                   ReLU(),\n",
    "                                   Linear( out_channels, out_channels),\n",
    "                                   LayerNorm(out_channels))\n",
    "\n",
    "\n",
    "        self.reset_parameters()\n",
    "\n",
    "    def reset_parameters(self):\n",
    "        \"\"\"\n",
    "        reset parameters for stacked MLP layers\n",
    "        \"\"\"\n",
    "        self.edge_mlp[0].reset_parameters()\n",
    "        self.edge_mlp[2].reset_parameters()\n",
    "\n",
    "        self.node_mlp[0].reset_parameters()\n",
    "        self.node_mlp[2].reset_parameters()\n",
    "\n",
    "    def forward(self, x, edge_index, edge_attr, size = None):\n",
    "        \"\"\"\n",
    "        Handle the pre and post-processing of node features/embeddings,\n",
    "        as well as initiates message passing by calling the propagate function.\n",
    "\n",
    "        Note that message passing and aggregation are handled by the propagate\n",
    "        function, and the update\n",
    "\n",
    "        x has shpae [node_num , in_channels] (node embeddings)\n",
    "        edge_index: [2, edge_num]\n",
    "        edge_attr: [E, in_channels]\n",
    "\n",
    "        \"\"\"\n",
    "\n",
    "        out, updated_edges = self.propagate(edge_index, x = x, edge_attr = edge_attr, size = size) # out has the shape of [E, out_channels]\n",
    "\n",
    "        updated_nodes = torch.cat([x,out],dim=1)        # Complete the aggregation through self-aggregation\n",
    "\n",
    "        updated_nodes = x + self.node_mlp(updated_nodes) # residual connection\n",
    "\n",
    "        return updated_nodes, updated_edges\n",
    "\n",
    "    def message(self, x_i, x_j, edge_attr):\n",
    "        \"\"\"\n",
    "        source_node: x_i has the shape of [E, in_channels]\n",
    "        target_node: x_j has the shape of [E, in_channels]\n",
    "        target_edge: edge_attr has the shape of [E, out_channels]\n",
    "\n",
    "        The messages that are passed are the raw embeddings. These are not processed.\n",
    "        \"\"\"\n",
    "\n",
    "        updated_edges=torch.cat([x_i, x_j, edge_attr], dim = 1) # tmp_emb has the shape of [E, 3 * in_channels]\n",
    "        updated_edges=self.edge_mlp(updated_edges)+edge_attr\n",
    "\n",
    "        return updated_edges\n",
    "\n",
    "    def aggregate(self, updated_edges, edge_index, dim_size = None):\n",
    "        \"\"\"\n",
    "        First we aggregate from neighbors (i.e., adjacent nodes) through concatenation,\n",
    "        then we aggregate self message (from the edge itself). This is streamlined\n",
    "        into one operation here.\n",
    "        \"\"\"\n",
    "\n",
    "        # The axis along which to index number of nodes.\n",
    "        node_dim = 0\n",
    "\n",
    "        out = torch_scatter.scatter(updated_edges, edge_index[0, :], dim=node_dim, reduce = 'sum')\n",
    "\n",
    "        return out, updated_edges"
   ]
  },
  {
   "cell_type": "markdown",
   "metadata": {},
   "source": [
    "## Save summary"
   ]
  },
  {
   "cell_type": "code",
   "execution_count": 9,
   "metadata": {},
   "outputs": [],
   "source": [
    "from torchsummary import summary\n",
    "def gnn_model_summary(model, args, model_name):\n",
    "    \n",
    "    model_params_list = list(model.named_parameters())\n",
    "\n",
    "    # saving details\n",
    "    if not os.path.isdir( args.modelsummary_dir ):\n",
    "        os.mkdir(args.modelsummary_dir)\n",
    "\n",
    "    with open( os.path.join(args.modelsummary_dir, model_name + '.txt'), 'w') as summary:\n",
    "    # Record model details\n",
    "        \n",
    "        summary.write(\"----------------------------------------------------------------\\n\")\n",
    "        line_new = \"{:>20}  {:>25} {:>15}\\n\".format(\"Layer.Parameter\", \"Param Tensor Shape\", \"Param #\")\n",
    "        summary.write(line_new)\n",
    "        summary.write(\"----------------------------------------------------------------\\n\")\n",
    "        for elem in model_params_list:\n",
    "            p_name = elem[0] \n",
    "            p_shape = list(elem[1].size())\n",
    "            p_count = torch.tensor(elem[1].size()).prod().item()\n",
    "            line_new = \"{:>20}  {:>25} {:>15}\\n\".format(p_name, str(p_shape), str(p_count))\n",
    "            summary.write(line_new)\n",
    "        summary.write(\"----------------------------------------------------------------\\n\")\n",
    "        total_params = sum([param.nelement() for param in model.parameters()])\n",
    "        summary.write(\"Total params: {}\\n\".format(total_params))\n",
    "        num_trainable_params = sum(p.numel() for p in model.parameters() if p.requires_grad)\n",
    "        summary.write(\"Trainable params: {}\\n\".format(num_trainable_params) )\n",
    "        summary.write(\"Non-trainable params: {}\".format(total_params - num_trainable_params))\n",
    "\n"
   ]
  },
  {
   "cell_type": "markdown",
   "metadata": {
    "id": "XXyUJoHfG7-M"
   },
   "source": [
    "# Training and Testing"
   ]
  },
  {
   "cell_type": "code",
   "execution_count": 10,
   "metadata": {},
   "outputs": [],
   "source": [
    "import pandas as pd\n",
    "import copy"
   ]
  },
  {
   "cell_type": "markdown",
   "metadata": {},
   "source": [
    "## Train function"
   ]
  },
  {
   "cell_type": "code",
   "execution_count": 11,
   "metadata": {
    "id": "frqF21UoHJ6m"
   },
   "outputs": [],
   "source": [
    "def train(train_loader, test_loader_list, u_normalizer, device, args, PATH=None):\n",
    "    '''\n",
    "    Performs a training loop on the dataset for GNO. Also calls\n",
    "    test functions.\n",
    "    '''\n",
    "    df = pd.DataFrame(columns=['epoch','train_loss','test_loss'])\n",
    "    model = KernelNN(args.width,\n",
    "                     args.ker_width,\n",
    "                     args.depth,\n",
    "                     args.edge_features,\n",
    "                     args.node_features).to(device)\n",
    "    gnn_model_summary(model, args, args.model + '_depth' + str(args.depth))\n",
    "    epochs = args.epochs\n",
    "    optimizer = torch.optim.Adam(model.parameters(), lr=args.learning_rate, weight_decay=args.weight_decay)\n",
    "    scheduler = torch.optim.lr_scheduler.StepLR(optimizer, step_size=args.scheduler_step, gamma=args.scheduler_gamma)\n",
    "    \n",
    "    myloss = LpLoss(size_average=False)\n",
    "    u_normalizer.cuda()\n",
    "\n",
    "    losses = [] # training losses\n",
    "    test_losses = [] # testing losses\n",
    "    best_test_loss = np.inf # initial test losses\n",
    "    model.train()\n",
    "    '''\n",
    "    ttrain = np.zeros((epochs, ))\n",
    "    ttest16 = np.zeros((epochs,))\n",
    "    ttest31 = np.zeros((epochs,))\n",
    "    ttest61 = np.zeros((epochs,))\n",
    "    '''\n",
    "    for epoch in trange(args.epochs, desc=\"Training\", unit=\"Epochs\"):\n",
    "\n",
    "        train_mse = 0.0\n",
    "        train_l2 = 0.0\n",
    "        for batch in train_loader:\n",
    "            batch = batch.to(device)\n",
    "            optimizer.zero_grad()\n",
    "            out = model(batch)\n",
    "            mse = F.mse_loss(out.view(-1, 1), batch.y.view(-1,1))\n",
    "            # mse.backward()\n",
    "            loss = torch.norm(out.view(-1) - batch.y.view(-1),1)\n",
    "            loss.backward()\n",
    "\n",
    "            l2 = myloss(u_normalizer.decode(out.view(args.batch_size,-1)), u_normalizer.decode(batch.y.view(args.batch_size, -1)))\n",
    "            # l2.backward()\n",
    "            optimizer.step()\n",
    "            train_mse += mse.item()\n",
    "            train_l2 += l2.item()\n",
    "\n",
    "        scheduler.step()\n",
    "        t2 = default_timer()\n",
    "        model.eval()\n",
    "        train_loss = train_l2/(args.ntrain * args.k)\n",
    "        losses.append(train_loss)\n",
    "        \n",
    "        #Every tenth epoch, calculate acceleration test loss\n",
    "        if epoch % 10 == 0:\n",
    "            test_loss_array = test(test_loader_list, args, device, model, u_normalizer, myloss)\n",
    "            test_losses.append(test_loss_array) # turning a list of 3 test losses into a numpy array\n",
    "            test_loss = np.sum(test_loss_array) # evaluate based on sum value\n",
    "            # saving model\n",
    "            if not os.path.isdir(args.checkpoint_dir):\n",
    "                os.mkdir(args.checkpoint_dir)\n",
    "\n",
    "            PATH = os.path.join(args.checkpoint_dir, args.model+'.csv')\n",
    "            df.to_csv(PATH,index=False)\n",
    "\n",
    "            #save the model if the current one is better than the previous best\n",
    "            if test_loss < best_test_loss:\n",
    "                best_test_loss = test_loss\n",
    "                best_model = copy.deepcopy(model)\n",
    "        else:\n",
    "            #If not the tenth epoch, append the previously calculated loss to the\n",
    "            #list in order to be able to plot it on the same plot as the training losses\n",
    "            test_losses.append(test_losses[-1])\n",
    "                \n",
    "        print(\"train loss\", str(round(train_loss,2)), \"test loss\", str(round(test_loss.item(),2)))\n",
    "        pd_temp = pd.DataFrame({})\n",
    "        df = df._append( {'epoch': epoch, 'train_loss': losses[-1], 'test_loss': test_losses[-1]}, ignore_index=True)\n",
    "        \n",
    "        if(epoch%100==0):\n",
    "            #print(\"train loss\", str(round(total_loss,2)), \"test loss\", str(round(test_loss.item(),2)))\n",
    "            if(args.save_best_model):\n",
    "                PATH = os.path.join(args.checkpoint_dir, args.model + '.pt')\n",
    "                torch.save(best_model.state_dict(), PATH )\n",
    "                \n",
    "    return losses, test_losses, best_model, best_test_loss"
   ]
  },
  {
   "cell_type": "code",
   "execution_count": 12,
   "metadata": {},
   "outputs": [],
   "source": [
    "def test(test_loader_list, args, device, model, u_normalizer, myloss):\n",
    "    '''\n",
    "    Performs a test loop on the dataset for GNO.\n",
    "    Explain input arguments:\n",
    "    test_loader: test dataset\n",
    "    device: GPU or CPU\n",
    "    test_model: trained model\n",
    "    myloss: loss function\n",
    "    u_normalizer: normalizer for output\n",
    "    '''\n",
    "    \n",
    "    u_normalizer.cuda()\n",
    "    model = model.to(device)\n",
    "    ntest = args.ntest\n",
    "    test_res_size = len(test_loader_list)\n",
    "    test_loss_array = np.zeros([test_res_size])\n",
    "    batch_size2 = args.batch_size2\n",
    "    with torch.no_grad():\n",
    "        for i in range(3):\n",
    "            test_loss = 0.0\n",
    "            for batch in test_loader_list[i]:\n",
    "                batch.to(device)\n",
    "                out = model(batch)\n",
    "                test_l2 = myloss(u_normalizer.decode(out.view(batch_size2,-1)),\n",
    "                                     batch.y.view(batch_size2, -1))\n",
    "                test_loss += test_l2.item()\n",
    "            test_loss_array[i] = test_loss / ntest\n",
    "\n",
    "    return test_loss_array"
   ]
  },
  {
   "cell_type": "markdown",
   "metadata": {
    "id": "SGSQjWxrJW4l"
   },
   "source": [
    "# Let's prepare the model for training!"
   ]
  },
  {
   "cell_type": "markdown",
   "metadata": {
    "id": "xvHQ-UYpWc1N"
   },
   "source": [
    "Specify parameters for model training"
   ]
  },
  {
   "cell_type": "markdown",
   "metadata": {
    "id": "C_DDl2zQWgHF"
   },
   "source": [
    "Load the temporal dataset. Each batch contains all meshes at the same timestep"
   ]
  },
  {
   "cell_type": "code",
   "execution_count": 13,
   "metadata": {},
   "outputs": [],
   "source": [
    "torch.cuda.empty_cache()"
   ]
  },
  {
   "cell_type": "code",
   "execution_count": null,
   "metadata": {
    "colab": {
     "base_uri": "https://localhost:8080/"
    },
    "executionInfo": {
     "elapsed": 16229996,
     "status": "ok",
     "timestamp": 1658819562469,
     "user": {
      "displayName": "Xin Ju",
      "userId": "07431887039181781801"
     },
     "user_tz": 300
    },
    "id": "gJVQMscSJ0w3",
    "outputId": "1c96d7e1-c499-4c9d-b07c-c8130aff8065"
   },
   "outputs": [
    {
     "name": "stderr",
     "output_type": "stream",
     "text": [
      "Training:   0%|▋                                                                                                                                               | 1/200 [00:57<3:11:09, 57.63s/Epochs]"
     ]
    },
    {
     "name": "stdout",
     "output_type": "stream",
     "text": [
      "train loss 0.37 test loss 0.76\n"
     ]
    },
    {
     "name": "stderr",
     "output_type": "stream",
     "text": [
      "Training:   1%|█▍                                                                                                                                              | 2/200 [01:47<2:55:18, 53.12s/Epochs]"
     ]
    },
    {
     "name": "stdout",
     "output_type": "stream",
     "text": [
      "train loss 0.21 test loss 0.76\n"
     ]
    },
    {
     "name": "stderr",
     "output_type": "stream",
     "text": [
      "Training:   2%|██▏                                                                                                                                             | 3/200 [02:37<2:49:45, 51.70s/Epochs]"
     ]
    },
    {
     "name": "stdout",
     "output_type": "stream",
     "text": [
      "train loss 0.17 test loss 0.76\n"
     ]
    },
    {
     "name": "stderr",
     "output_type": "stream",
     "text": [
      "Training:   2%|██▉                                                                                                                                             | 4/200 [03:27<2:46:42, 51.04s/Epochs]"
     ]
    },
    {
     "name": "stdout",
     "output_type": "stream",
     "text": [
      "train loss 0.17 test loss 0.76\n"
     ]
    },
    {
     "name": "stderr",
     "output_type": "stream",
     "text": [
      "Training:   2%|███▌                                                                                                                                            | 5/200 [04:17<2:44:38, 50.66s/Epochs]"
     ]
    },
    {
     "name": "stdout",
     "output_type": "stream",
     "text": [
      "train loss 0.15 test loss 0.76\n"
     ]
    }
   ],
   "source": [
    "device = 'cuda' if torch.cuda.is_available() else 'cpu'\n",
    "args.device = device\n",
    "\n",
    "test_loader_list = [test_loader16, test_loader31, test_loader61]\n",
    "losses, test_losses, best_model, best_test_loss = train(train_loader,\n",
    "                                                          test_loader_list,\n",
    "                                                          u_normalizer, \n",
    "                                                          device,\n",
    "                                                          args, \n",
    "                                                          PATH=None)\n",
    "\n",
    "print(\"Min test set loss: {0}\".format(min(test_losses)))\n",
    "print(\"Minimum loss: {0}\".format(min(losses)))"
   ]
  },
  {
   "cell_type": "markdown",
   "metadata": {
    "id": "hYUgp41Zewfa"
   },
   "source": [
    "Let's visualize the results!"
   ]
  },
  {
   "cell_type": "code",
   "execution_count": 40,
   "metadata": {
    "id": "jafGp3Hbe0QL"
   },
   "outputs": [],
   "source": [
    "def save_plots(args, losses, test_losses, velo_val_losses):\n",
    "    \n",
    "    #Define the model name for saving \n",
    "    model_name= args.model + '_data_'+ args.data_type + '_LSTM_k_' + str(args.lstm_filter_size )+ '_well_weight_' + str(args.well_weight) +\\\n",
    "                  '_norm'+ str(args.normalized)+ '_model_nl'+str(args.num_layers)+'_bs'+str(args.batch_size) + \\\n",
    "               '_hd'+str(args.hidden_dim)+'_ep'+str(args.epochs)+'_wd'+str(args.weight_decay) + \\\n",
    "               '_lr'+str(args.lr)+'_shuff_'+str(args.shuffle)+'_tr'+str(args.train_size)+'_te'+str(args.test_size)\n",
    "    \n",
    "    if not os.path.isdir(args.postprocess_dir):\n",
    "        os.mkdir(args.postprocess_dir)\n",
    "\n",
    "    PATH = os.path.join(args.postprocess_dir, model_name + '.pdf')\n",
    "\n",
    "    f = plt.figure()\n",
    "    plt.title('Losses Plot')\n",
    "    plt.plot(losses, label=\"training loss\" + \" - \" + args.model)\n",
    "    plt.plot(test_losses, label=\"test loss\" + \" - \" + args.model)\n",
    "    #if (args.save_velo_val):\n",
    "    #    plt.plot(velo_val_losses, label=\"velocity loss\" + \" - \" + args.model_type)\n",
    "    plt.xlabel('Epoch')\n",
    "    plt.ylabel('Loss')\n",
    "\n",
    "    plt.legend()\n",
    "    plt.show()\n",
    "    f.savefig(PATH, bbox_inches='tight')"
   ]
  },
  {
   "cell_type": "code",
   "execution_count": 41,
   "metadata": {
    "colab": {
     "base_uri": "https://localhost:8080/",
     "height": 295
    },
    "executionInfo": {
     "elapsed": 516,
     "status": "ok",
     "timestamp": 1658712079675,
     "user": {
      "displayName": "Xin Ju",
      "userId": "07431887039181781801"
     },
     "user_tz": 300
    },
    "id": "bnEOXVZme_Nb",
    "outputId": "39d0fa78-546a-42c7-9dd7-1037af5c3e5f"
   },
   "outputs": [
    {
     "data": {
      "image/png": "[encoded data removed]",
      "text/plain": [
       "<Figure size 432x288 with 1 Axes>"
      ]
     },
     "metadata": {},
     "output_type": "display_data"
    }
   ],
   "source": [
    "save_plots(args, losses, test_losses, velo_val_losses)"
   ]
  },
  {
   "cell_type": "markdown",
   "metadata": {
    "id": "94vt4qfOmN4r"
   },
   "source": [
    "# Post-processing"
   ]
  },
  {
   "cell_type": "code",
   "execution_count": 136,
   "metadata": {
    "id": "g-Jp5gLgZ2v_"
   },
   "outputs": [],
   "source": [
    "from matplotlib import rc\n",
    "import seaborn as sns \n",
    "import matplotlib as mpl\n",
    "\n",
    "# set the plot style\n",
    "def set_style():\n",
    "    #plt.rc(\"font\", family=\"Times New Roman\")\n",
    "    rc('mathtext', default='regular')\n",
    "    sns.set_style('ticks')\n",
    "    sns.set(style=\"ticks\", rc={'axes.linewidth': 3.0, 'font.family': \"sans-serif\"})    \n",
    "    sns.set_context(\"paper\",font_scale = 2.0, rc={\"font.size\":20,\n",
    "                                                  \"axes.titlesize\":20,\n",
    "                                                  \"axes.labelsize\":20,\n",
    "                                                  \"lines.linewidth\": 2.5})\n",
    "     \n",
    "set_style()\n",
    "color_list = ['#1f77b4', '#ff7f0e', '#2ca02c', '#d62728',\n",
    "              '#9467bd', '#8c564b', '#e377c2', '#7f7f7f',\n",
    "              '#bcbd22', '#17becf']"
   ]
  },
  {
   "cell_type": "markdown",
   "metadata": {
    "id": "AVgHbExqwtPF"
   },
   "source": [
    "## Darcy's flow"
   ]
  },
  {
   "cell_type": "markdown",
   "metadata": {
    "id": "MR52M6KZBpXC"
   },
   "source": [
    "With the methods below, we visualize the results from a model trained in this colab or a pre-trained model that we import from elsewhere."
   ]
  },
  {
   "cell_type": "markdown",
   "metadata": {},
   "source": [
    "## Visualization"
   ]
  },
  {
   "cell_type": "code",
   "execution_count": null,
   "metadata": {},
   "outputs": [],
   "source": [
    "\n",
    "\n",
    "resolution = s\n",
    "data = train_loader.dataset[0]\n",
    "coeff = data.coeff.numpy().reshape((resolution, resolution))\n",
    "truth = u_normalizer.decode(data.y.reshape(1,-1)).numpy().reshape((resolution, resolution))\n",
    "approx = u_normalizer.decode(model(data).reshape(1,-1)).detach().numpy().reshape((resolution, resolution))\n",
    "_min = np.min(np.min(truth))\n",
    "_max = np.max(np.max(truth))\n",
    "\n",
    "plt.figure()\n",
    "plt.subplot(1, 3, 1)\n",
    "plt.imshow(truth, vmin = _min, vmax=_max)\n",
    "plt.xticks([], [])\n",
    "plt.yticks([], [])\n",
    "plt.colorbar(fraction=0.046, pad=0.04)\n",
    "plt.title('Ground Truth')\n",
    "\n",
    "plt.subplot(1, 3, 2)\n",
    "plt.imshow(approx, vmin = _min, vmax=_max)\n",
    "plt.xticks([], [])\n",
    "plt.yticks([], [])\n",
    "plt.colorbar(fraction=0.046, pad=0.04)\n",
    "plt.title('Approximation')\n",
    "\n",
    "plt.subplot(1, 3, 3)\n",
    "plt.imshow((approx - truth) ** 2)\n",
    "plt.xticks([], [])\n",
    "plt.yticks([], [])\n",
    "plt.colorbar(fraction=0.046, pad=0.04)\n",
    "plt.title('Error')\n",
    "\n",
    "plt.subplots_adjust(wspace=0.5, hspace=0.5)\n",
    "plt.savefig(path_image_train + '.png')\n",
    "\n",
    "\n",
    "resolution = 16\n",
    "data = test_loader16.dataset[0]\n",
    "coeff = data.coeff.numpy().reshape((resolution, resolution))\n",
    "truth = data.y.numpy().reshape((resolution, resolution))\n",
    "approx = u_normalizer.decode(model(data).reshape(1,-1)).detach().numpy().reshape((resolution, resolution))\n",
    "_min = np.min(np.min(truth))\n",
    "_max = np.max(np.max(truth))\n",
    "\n",
    "plt.figure()\n",
    "plt.subplot(1, 3, 1)\n",
    "plt.imshow(truth, vmin = _min, vmax=_max)\n",
    "plt.xticks([], [])\n",
    "plt.yticks([], [])\n",
    "plt.colorbar(fraction=0.046, pad=0.04)\n",
    "plt.title('Ground Truth')\n",
    "\n",
    "plt.subplot(1, 3, 2)\n",
    "plt.imshow(approx, vmin = _min, vmax=_max)\n",
    "plt.xticks([], [])\n",
    "plt.yticks([], [])\n",
    "plt.colorbar(fraction=0.046, pad=0.04)\n",
    "plt.title('Approximation')\n",
    "\n",
    "plt.subplot(1, 3, 3)\n",
    "plt.imshow((approx - truth) ** 2)\n",
    "plt.xticks([], [])\n",
    "plt.yticks([], [])\n",
    "plt.colorbar(fraction=0.046, pad=0.04)\n",
    "plt.title('Error')\n",
    "\n",
    "plt.subplots_adjust(wspace=0.5, hspace=0.5)\n",
    "plt.savefig(path_image_test16 + '.png')\n",
    "\n",
    "resolution = 31\n",
    "data = test_loader31.dataset[0]\n",
    "coeff = data.coeff.numpy().reshape((resolution, resolution))\n",
    "truth = data.y.numpy().reshape((resolution, resolution))\n",
    "approx = u_normalizer.decode(model(data).reshape(1,-1)).detach().numpy().reshape((resolution, resolution))\n",
    "_min = np.min(np.min(truth))\n",
    "_max = np.max(np.max(truth))\n",
    "\n",
    "# plt.figure()\n",
    "plt.figure()\n",
    "plt.subplot(1, 3, 1)\n",
    "plt.imshow(truth, vmin = _min, vmax=_max)\n",
    "plt.xticks([], [])\n",
    "plt.yticks([], [])\n",
    "plt.colorbar(fraction=0.046, pad=0.04)\n",
    "plt.title('Ground Truth')\n",
    "\n",
    "plt.subplot(1, 3, 2)\n",
    "plt.imshow(approx, vmin = _min, vmax=_max)\n",
    "plt.xticks([], [])\n",
    "plt.yticks([], [])\n",
    "plt.colorbar(fraction=0.046, pad=0.04)\n",
    "plt.title('Approximation')\n",
    "\n",
    "plt.subplot(1, 3, 3)\n",
    "plt.imshow((approx - truth) ** 2)\n",
    "plt.xticks([], [])\n",
    "plt.yticks([], [])\n",
    "plt.colorbar(fraction=0.046, pad=0.04)\n",
    "plt.title('Error')\n",
    "\n",
    "plt.subplots_adjust(wspace=0.5, hspace=0.5)\n",
    "plt.savefig(path_image_test31 + '.png')\n",
    "\n",
    "\n",
    "resolution = 61\n",
    "data = test_loader61.dataset[0]\n",
    "coeff = data.coeff.numpy().reshape((resolution, resolution))\n",
    "truth = data.y.numpy().reshape((resolution, resolution))\n",
    "approx = u_normalizer.decode(model(data).reshape(1,-1)).detach().numpy().reshape((resolution, resolution))\n",
    "_min = np.min(np.min(truth))\n",
    "_max = np.max(np.max(truth))\n",
    "\n",
    "# plt.figure()\n",
    "plt.figure()\n",
    "plt.subplot(1, 3, 1)\n",
    "plt.imshow(truth, vmin = _min, vmax=_max)\n",
    "plt.xticks([], [])\n",
    "plt.yticks([], [])\n",
    "plt.colorbar(fraction=0.046, pad=0.04)\n",
    "plt.title('Ground Truth')\n",
    "\n",
    "plt.subplot(1, 3, 2)\n",
    "plt.imshow(approx, vmin = _min, vmax=_max)\n",
    "plt.xticks([], [])\n",
    "plt.yticks([], [])\n",
    "plt.colorbar(fraction=0.046, pad=0.04)\n",
    "plt.title('Approximation')\n",
    "\n",
    "plt.subplot(1, 3, 3)\n",
    "plt.imshow((approx - truth) ** 2)\n",
    "plt.xticks([], [])\n",
    "plt.yticks([], [])\n",
    "plt.colorbar(fraction=0.046, pad=0.04)\n",
    "plt.title('Error')\n",
    "\n",
    "plt.subplots_adjust(wspace=0.5, hspace=0.5)\n",
    "plt.savefig(path_image_test61 + '.png')"
   ]
  }
 ],
 "metadata": {
  "accelerator": "GPU",
  "colab": {
   "collapsed_sections": [],
   "machine_shape": "hm",
   "name": "LSTM_MGN_New_Head_normalized.ipynb",
   "provenance": [
    {
     "file_id": "1ckDvF_ukNYpQKOjBiKhM3I5BmVI1K5_v",
     "timestamp": 1639035336373
    }
   ],
   "toc_visible": true
  },
  "gpuClass": "standard",
  "kernelspec": {
   "display_name": "Python 3 (ipykernel)",
   "language": "python",
   "name": "python3"
  },
  "language_info": {
   "codemirror_mode": {
    "name": "ipython",
    "version": 3
   },
   "file_extension": ".py",
   "mimetype": "text/x-python",
   "name": "python",
   "nbconvert_exporter": "python",
   "pygments_lexer": "ipython3",
   "version": "3.10.13"
  }
 },
 "nbformat": 4,
 "nbformat_minor": 4
}
